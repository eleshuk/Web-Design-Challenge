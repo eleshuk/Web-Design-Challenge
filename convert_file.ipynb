{
 "cells": [
  {
   "cell_type": "code",
   "execution_count": 12,
   "metadata": {},
   "outputs": [],
   "source": [
    "# Convert .csv file to html"
   ]
  },
  {
   "cell_type": "code",
   "execution_count": 13,
   "metadata": {},
   "outputs": [],
   "source": [
    "# Dependencies\n",
    "import pandas as pd"
   ]
  },
  {
   "cell_type": "code",
   "execution_count": 14,
   "metadata": {},
   "outputs": [],
   "source": [
    "weather_data = 'Resources/weatherpy.csv'"
   ]
  },
  {
   "cell_type": "code",
   "execution_count": 15,
   "metadata": {},
   "outputs": [
    {
     "data": {
      "text/html": [
       "<div>\n",
       "<style scoped>\n",
       "    .dataframe tbody tr th:only-of-type {\n",
       "        vertical-align: middle;\n",
       "    }\n",
       "\n",
       "    .dataframe tbody tr th {\n",
       "        vertical-align: top;\n",
       "    }\n",
       "\n",
       "    .dataframe thead th {\n",
       "        text-align: right;\n",
       "    }\n",
       "</style>\n",
       "<table border=\"1\" class=\"dataframe\">\n",
       "  <thead>\n",
       "    <tr style=\"text-align: right;\">\n",
       "      <th></th>\n",
       "      <th>City ID</th>\n",
       "      <th>City</th>\n",
       "      <th>Country</th>\n",
       "      <th>Lat</th>\n",
       "      <th>Long</th>\n",
       "      <th>Date</th>\n",
       "      <th>Temp Max</th>\n",
       "      <th>Humidity</th>\n",
       "      <th>Cloudiness</th>\n",
       "      <th>Wind Speed</th>\n",
       "    </tr>\n",
       "  </thead>\n",
       "  <tbody>\n",
       "    <tr>\n",
       "      <th>0</th>\n",
       "      <td>3369157</td>\n",
       "      <td>Cape Town</td>\n",
       "      <td>ZA</td>\n",
       "      <td>-33.93</td>\n",
       "      <td>18.42</td>\n",
       "      <td>12/28/2020</td>\n",
       "      <td>71.006</td>\n",
       "      <td>64</td>\n",
       "      <td>20</td>\n",
       "      <td>8.70</td>\n",
       "    </tr>\n",
       "    <tr>\n",
       "      <th>1</th>\n",
       "      <td>3833367</td>\n",
       "      <td>Ushuaia</td>\n",
       "      <td>AR</td>\n",
       "      <td>-54.80</td>\n",
       "      <td>-68.30</td>\n",
       "      <td>12/28/2020</td>\n",
       "      <td>55.400</td>\n",
       "      <td>54</td>\n",
       "      <td>75</td>\n",
       "      <td>2.10</td>\n",
       "    </tr>\n",
       "    <tr>\n",
       "      <th>2</th>\n",
       "      <td>5106841</td>\n",
       "      <td>Albany</td>\n",
       "      <td>US</td>\n",
       "      <td>42.60</td>\n",
       "      <td>-73.97</td>\n",
       "      <td>12/28/2020</td>\n",
       "      <td>39.992</td>\n",
       "      <td>72</td>\n",
       "      <td>81</td>\n",
       "      <td>3.17</td>\n",
       "    </tr>\n",
       "    <tr>\n",
       "      <th>3</th>\n",
       "      <td>5880054</td>\n",
       "      <td>Barrow</td>\n",
       "      <td>US</td>\n",
       "      <td>71.29</td>\n",
       "      <td>-156.79</td>\n",
       "      <td>12/28/2020</td>\n",
       "      <td>3.200</td>\n",
       "      <td>71</td>\n",
       "      <td>90</td>\n",
       "      <td>5.70</td>\n",
       "    </tr>\n",
       "    <tr>\n",
       "      <th>4</th>\n",
       "      <td>6167817</td>\n",
       "      <td>Torbay</td>\n",
       "      <td>CA</td>\n",
       "      <td>47.67</td>\n",
       "      <td>-52.73</td>\n",
       "      <td>12/28/2020</td>\n",
       "      <td>33.998</td>\n",
       "      <td>69</td>\n",
       "      <td>20</td>\n",
       "      <td>3.60</td>\n",
       "    </tr>\n",
       "  </tbody>\n",
       "</table>\n",
       "</div>"
      ],
      "text/plain": [
       "   City ID       City Country    Lat    Long        Date  Temp Max  Humidity  \\\n",
       "0  3369157  Cape Town      ZA -33.93   18.42  12/28/2020    71.006        64   \n",
       "1  3833367    Ushuaia      AR -54.80  -68.30  12/28/2020    55.400        54   \n",
       "2  5106841     Albany      US  42.60  -73.97  12/28/2020    39.992        72   \n",
       "3  5880054     Barrow      US  71.29 -156.79  12/28/2020     3.200        71   \n",
       "4  6167817     Torbay      CA  47.67  -52.73  12/28/2020    33.998        69   \n",
       "\n",
       "   Cloudiness  Wind Speed  \n",
       "0          20        8.70  \n",
       "1          75        2.10  \n",
       "2          81        3.17  \n",
       "3          90        5.70  \n",
       "4          20        3.60  "
      ]
     },
     "execution_count": 15,
     "metadata": {},
     "output_type": "execute_result"
    }
   ],
   "source": [
    "weather = pd.read_csv(weather_data)\n",
    "weather.head()"
   ]
  },
  {
   "cell_type": "code",
   "execution_count": 16,
   "metadata": {},
   "outputs": [
    {
     "name": "stdout",
     "output_type": "stream",
     "text": [
      "City ID\n",
      "City\n",
      "Country\n",
      "Lat\n",
      "Long\n",
      "Date\n",
      "Temp Max\n",
      "Humidity\n",
      "Cloudiness\n",
      "Wind Speed\n"
     ]
    }
   ],
   "source": [
    "for col in weather.columns: \n",
    "    print(col) "
   ]
  },
  {
   "cell_type": "code",
   "execution_count": 18,
   "metadata": {},
   "outputs": [],
   "source": [
    "weather_html = weather.to_html('Resources/weather.html')"
   ]
  },
  {
   "cell_type": "code",
   "execution_count": null,
   "metadata": {},
   "outputs": [],
   "source": []
  }
 ],
 "metadata": {
  "kernelspec": {
   "display_name": "Python 3",
   "language": "python",
   "name": "python3"
  },
  "language_info": {
   "codemirror_mode": {
    "name": "ipython",
    "version": 3
   },
   "file_extension": ".py",
   "mimetype": "text/x-python",
   "name": "python",
   "nbconvert_exporter": "python",
   "pygments_lexer": "ipython3",
   "version": "3.8.5"
  }
 },
 "nbformat": 4,
 "nbformat_minor": 4
}
